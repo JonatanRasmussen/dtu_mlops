{
 "cells": [
  {
   "cell_type": "code",
   "execution_count": 3,
   "metadata": {},
   "outputs": [
    {
     "name": "stdout",
     "output_type": "stream",
     "text": [
      "hello world!\n"
     ]
    }
   ],
   "source": [
    "# This is code\n",
    "print(\"hello world!\")"
   ]
  },
  {
   "cell_type": "markdown",
   "metadata": {},
   "source": [
    "This is text. Yay"
   ]
  },
  {
   "cell_type": "code",
   "execution_count": 4,
   "metadata": {},
   "outputs": [
    {
     "name": "stdout",
     "output_type": "stream",
     "text": [
      "x + 2 = 4\n"
     ]
    }
   ],
   "source": [
    "x = 2\n",
    "print(f\"x + 2 = {2 + x}\")"
   ]
  },
  {
   "cell_type": "markdown",
   "metadata": {},
   "source": [
    "# HEY\n",
    "Now it is time to stop"
   ]
  },
  {
   "cell_type": "markdown",
   "metadata": {},
   "source": [
    "Formatting tests\n",
    "# Header 1\n",
    "## Header 2\n",
    "### Header 3\n",
    "#### Header 4\n",
    "##### Header 5\n",
    "###### Header 6\n",
    "**bold** or __bold__\n",
    "**bold** or __bold__\n",
    "[Google](http://www.google.com)\n",
    "1. Item 1\n",
    "2. Item 2\n",
    "3. Item 3\n",
    "   1. Subitem 3a\n",
    "   2. Subitem 3b\n",
    "![Alt text](/path/to/img.jpg)\n",
    "\n",
    "> This is a blockquote.\n",
    "\n",
    "---\n",
    "    print(\"this is fake code\") \n",
    "\n",
    "*italic* or _italic_\n",
    "\n",
    "| Header 1 | Header 2 | Header 3 |\n",
    "|----------|:--------:|---------:|\n",
    "| Default  | Centered | Right    |\n",
    "\n"
   ]
  }
 ],
 "metadata": {
  "kernelspec": {
   "display_name": "Python 3",
   "language": "python",
   "name": "python3"
  },
  "language_info": {
   "codemirror_mode": {
    "name": "ipython",
    "version": 3
   },
   "file_extension": ".py",
   "mimetype": "text/x-python",
   "name": "python",
   "nbconvert_exporter": "python",
   "pygments_lexer": "ipython3",
   "version": "3.11.7"
  }
 },
 "nbformat": 4,
 "nbformat_minor": 2
}
